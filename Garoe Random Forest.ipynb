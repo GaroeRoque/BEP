{
 "cells": [
  {
   "cell_type": "code",
   "execution_count": 1,
   "id": "initial_id",
   "metadata": {
    "collapsed": true,
    "ExecuteTime": {
     "end_time": "2024-03-18T09:39:50.185924Z",
     "start_time": "2024-03-18T09:39:49.987454Z"
    }
   },
   "outputs": [
    {
     "name": "stdout",
     "output_type": "stream",
     "text": [
      "pandas        Tested version: 2.0.3   Your version: 2.0.3\n",
      "numpy         Tested version: 1.21.5  Your version: 1.21.5\n",
      "matplotlib    Tested version: 3.5.3   Your version: 3.5.3\n",
      "scikit-learn  Tested version: 1.2.2   Your version: 1.2.2\n"
     ]
    }
   ],
   "source": [
    "import time, matplotlib, sklearn\n",
    "\n",
    "# data wrangling\n",
    "import pandas as pd\n",
    "import numpy as np \n",
    "\n",
    "# data preprocessing\n",
    "from sklearn.model_selection import train_test_split\n",
    "from sklearn.pipeline import Pipeline\n",
    "from sklearn.compose import ColumnTransformer, make_column_selector\n",
    "from sklearn.preprocessing import OneHotEncoder\n",
    "from sklearn.feature_selection import VarianceThreshold\n",
    "from sklearn.impute import SimpleImputer\n",
    "\n",
    "# the data intro has been tested with the following versions\n",
    "print(\"pandas        Tested version: 2.0.3   Your version: %s\" % pd.__version__)\n",
    "print(\"numpy         Tested version: 1.21.5  Your version: %s\" % np.__version__)\n",
    "print(\"matplotlib    Tested version: 3.5.3   Your version: %s\" % matplotlib.__version__)\n",
    "print(\"scikit-learn  Tested version: 1.2.2   Your version: %s\" % sklearn.__version__)"
   ]
  },
  {
   "cell_type": "code",
   "outputs": [
    {
     "data": {
      "text/plain": "   encounter_id  patient_id  hospital_id  hospital_death   age    bmi  \\\n0         66154       25312          118               0  68.0  22.73   \n1        114252       59342           81               0  77.0  27.42   \n2        119783       50777          118               0  25.0  31.95   \n3         79267       46918          118               0  81.0  22.64   \n4         92056       34377           33               0  19.0    NaN   \n\n   elective_surgery  ethnicity gender  height  ... aids cirrhosis  \\\n0                 0  Caucasian      M   180.3  ...  0.0       0.0   \n1                 0  Caucasian      F   160.0  ...  0.0       0.0   \n2                 0  Caucasian      F   172.7  ...  0.0       0.0   \n3                 1  Caucasian      F   165.1  ...  0.0       0.0   \n4                 0  Caucasian      M   188.0  ...  0.0       0.0   \n\n   diabetes_mellitus hepatic_failure immunosuppression  leukemia  lymphoma  \\\n0                1.0             0.0               0.0       0.0       0.0   \n1                1.0             0.0               0.0       0.0       0.0   \n2                0.0             0.0               0.0       0.0       0.0   \n3                0.0             0.0               0.0       0.0       0.0   \n4                0.0             0.0               0.0       0.0       0.0   \n\n   solid_tumor_with_metastasis  apache_3j_bodysystem  apache_2_bodysystem  \n0                          0.0                Sepsis       Cardiovascular  \n1                          0.0           Respiratory          Respiratory  \n2                          0.0             Metabolic            Metabolic  \n3                          0.0        Cardiovascular       Cardiovascular  \n4                          0.0                Trauma               Trauma  \n\n[5 rows x 186 columns]",
      "text/html": "<div>\n<style scoped>\n    .dataframe tbody tr th:only-of-type {\n        vertical-align: middle;\n    }\n\n    .dataframe tbody tr th {\n        vertical-align: top;\n    }\n\n    .dataframe thead th {\n        text-align: right;\n    }\n</style>\n<table border=\"1\" class=\"dataframe\">\n  <thead>\n    <tr style=\"text-align: right;\">\n      <th></th>\n      <th>encounter_id</th>\n      <th>patient_id</th>\n      <th>hospital_id</th>\n      <th>hospital_death</th>\n      <th>age</th>\n      <th>bmi</th>\n      <th>elective_surgery</th>\n      <th>ethnicity</th>\n      <th>gender</th>\n      <th>height</th>\n      <th>...</th>\n      <th>aids</th>\n      <th>cirrhosis</th>\n      <th>diabetes_mellitus</th>\n      <th>hepatic_failure</th>\n      <th>immunosuppression</th>\n      <th>leukemia</th>\n      <th>lymphoma</th>\n      <th>solid_tumor_with_metastasis</th>\n      <th>apache_3j_bodysystem</th>\n      <th>apache_2_bodysystem</th>\n    </tr>\n  </thead>\n  <tbody>\n    <tr>\n      <th>0</th>\n      <td>66154</td>\n      <td>25312</td>\n      <td>118</td>\n      <td>0</td>\n      <td>68.0</td>\n      <td>22.73</td>\n      <td>0</td>\n      <td>Caucasian</td>\n      <td>M</td>\n      <td>180.3</td>\n      <td>...</td>\n      <td>0.0</td>\n      <td>0.0</td>\n      <td>1.0</td>\n      <td>0.0</td>\n      <td>0.0</td>\n      <td>0.0</td>\n      <td>0.0</td>\n      <td>0.0</td>\n      <td>Sepsis</td>\n      <td>Cardiovascular</td>\n    </tr>\n    <tr>\n      <th>1</th>\n      <td>114252</td>\n      <td>59342</td>\n      <td>81</td>\n      <td>0</td>\n      <td>77.0</td>\n      <td>27.42</td>\n      <td>0</td>\n      <td>Caucasian</td>\n      <td>F</td>\n      <td>160.0</td>\n      <td>...</td>\n      <td>0.0</td>\n      <td>0.0</td>\n      <td>1.0</td>\n      <td>0.0</td>\n      <td>0.0</td>\n      <td>0.0</td>\n      <td>0.0</td>\n      <td>0.0</td>\n      <td>Respiratory</td>\n      <td>Respiratory</td>\n    </tr>\n    <tr>\n      <th>2</th>\n      <td>119783</td>\n      <td>50777</td>\n      <td>118</td>\n      <td>0</td>\n      <td>25.0</td>\n      <td>31.95</td>\n      <td>0</td>\n      <td>Caucasian</td>\n      <td>F</td>\n      <td>172.7</td>\n      <td>...</td>\n      <td>0.0</td>\n      <td>0.0</td>\n      <td>0.0</td>\n      <td>0.0</td>\n      <td>0.0</td>\n      <td>0.0</td>\n      <td>0.0</td>\n      <td>0.0</td>\n      <td>Metabolic</td>\n      <td>Metabolic</td>\n    </tr>\n    <tr>\n      <th>3</th>\n      <td>79267</td>\n      <td>46918</td>\n      <td>118</td>\n      <td>0</td>\n      <td>81.0</td>\n      <td>22.64</td>\n      <td>1</td>\n      <td>Caucasian</td>\n      <td>F</td>\n      <td>165.1</td>\n      <td>...</td>\n      <td>0.0</td>\n      <td>0.0</td>\n      <td>0.0</td>\n      <td>0.0</td>\n      <td>0.0</td>\n      <td>0.0</td>\n      <td>0.0</td>\n      <td>0.0</td>\n      <td>Cardiovascular</td>\n      <td>Cardiovascular</td>\n    </tr>\n    <tr>\n      <th>4</th>\n      <td>92056</td>\n      <td>34377</td>\n      <td>33</td>\n      <td>0</td>\n      <td>19.0</td>\n      <td>NaN</td>\n      <td>0</td>\n      <td>Caucasian</td>\n      <td>M</td>\n      <td>188.0</td>\n      <td>...</td>\n      <td>0.0</td>\n      <td>0.0</td>\n      <td>0.0</td>\n      <td>0.0</td>\n      <td>0.0</td>\n      <td>0.0</td>\n      <td>0.0</td>\n      <td>0.0</td>\n      <td>Trauma</td>\n      <td>Trauma</td>\n    </tr>\n  </tbody>\n</table>\n<p>5 rows × 186 columns</p>\n</div>"
     },
     "execution_count": 2,
     "metadata": {},
     "output_type": "execute_result"
    }
   ],
   "source": [
    "# description\n",
    "description = pd.read_csv('''C:\\\\Users\\\\20212464\\\\OneDrive - TU Eindhoven\\\\Desktop\\\\Responsible Ds\\\\Responsible Ds\\\\WiDS_Datathon_2020_Dictionary.csv''')\n",
    "description_dict = description.set_index('Variable Name').to_dict(orient='index')\n",
    "# data\n",
    "df = pd.read_csv('''C:\\\\Users\\\\20212464\\\\OneDrive - TU Eindhoven\\\\Desktop\\\\Responsible Ds\\\\Responsible Ds\\\\training_v2.csv''')\n",
    "\n",
    "df.head()"
   ],
   "metadata": {
    "collapsed": false,
    "ExecuteTime": {
     "end_time": "2024-03-18T09:39:51.643638Z",
     "start_time": "2024-03-18T09:39:50.187919Z"
    }
   },
   "id": "8b67cd0f18137c63",
   "execution_count": 2
  },
  {
   "cell_type": "code",
   "outputs": [],
   "source": [
    "test_size = 0.2 # proportion for train versus test+val split\n",
    "val_size = 0.5 # proportion for test versus val split\n",
    "random_state = 42  # random state is used to set a seed for randomness, which is only relevant for reproducibility purposes\n",
    "max_missing = 0.8  # maximum percentage of missing values for a column to be dropped"
   ],
   "metadata": {
    "collapsed": false,
    "ExecuteTime": {
     "end_time": "2024-03-18T09:39:51.658600Z",
     "start_time": "2024-03-18T09:39:51.644637Z"
    }
   },
   "id": "316df3029393e74d",
   "execution_count": 3
  },
  {
   "cell_type": "code",
   "outputs": [
    {
     "data": {
      "text/plain": "ColumnTransformer(transformers=[('num',\n                                 Pipeline(steps=[('constant',\n                                                  VarianceThreshold()),\n                                                 ('imputer', SimpleImputer())]),\n                                 <sklearn.compose._column_transformer.make_column_selector object at 0x000002E282C9BE50>),\n                                ('cat',\n                                 Pipeline(steps=[('encoder',\n                                                  OneHotEncoder(drop='first',\n                                                                handle_unknown='ignore',\n                                                                sparse_output=False))]),\n                                 <sklearn.compose._column_transformer.make_column_selector object at 0x000002E282CBE490>)])",
      "text/html": "<style>#sk-container-id-1 {color: black;background-color: white;}#sk-container-id-1 pre{padding: 0;}#sk-container-id-1 div.sk-toggleable {background-color: white;}#sk-container-id-1 label.sk-toggleable__label {cursor: pointer;display: block;width: 100%;margin-bottom: 0;padding: 0.3em;box-sizing: border-box;text-align: center;}#sk-container-id-1 label.sk-toggleable__label-arrow:before {content: \"▸\";float: left;margin-right: 0.25em;color: #696969;}#sk-container-id-1 label.sk-toggleable__label-arrow:hover:before {color: black;}#sk-container-id-1 div.sk-estimator:hover label.sk-toggleable__label-arrow:before {color: black;}#sk-container-id-1 div.sk-toggleable__content {max-height: 0;max-width: 0;overflow: hidden;text-align: left;background-color: #f0f8ff;}#sk-container-id-1 div.sk-toggleable__content pre {margin: 0.2em;color: black;border-radius: 0.25em;background-color: #f0f8ff;}#sk-container-id-1 input.sk-toggleable__control:checked~div.sk-toggleable__content {max-height: 200px;max-width: 100%;overflow: auto;}#sk-container-id-1 input.sk-toggleable__control:checked~label.sk-toggleable__label-arrow:before {content: \"▾\";}#sk-container-id-1 div.sk-estimator input.sk-toggleable__control:checked~label.sk-toggleable__label {background-color: #d4ebff;}#sk-container-id-1 div.sk-label input.sk-toggleable__control:checked~label.sk-toggleable__label {background-color: #d4ebff;}#sk-container-id-1 input.sk-hidden--visually {border: 0;clip: rect(1px 1px 1px 1px);clip: rect(1px, 1px, 1px, 1px);height: 1px;margin: -1px;overflow: hidden;padding: 0;position: absolute;width: 1px;}#sk-container-id-1 div.sk-estimator {font-family: monospace;background-color: #f0f8ff;border: 1px dotted black;border-radius: 0.25em;box-sizing: border-box;margin-bottom: 0.5em;}#sk-container-id-1 div.sk-estimator:hover {background-color: #d4ebff;}#sk-container-id-1 div.sk-parallel-item::after {content: \"\";width: 100%;border-bottom: 1px solid gray;flex-grow: 1;}#sk-container-id-1 div.sk-label:hover label.sk-toggleable__label {background-color: #d4ebff;}#sk-container-id-1 div.sk-serial::before {content: \"\";position: absolute;border-left: 1px solid gray;box-sizing: border-box;top: 0;bottom: 0;left: 50%;z-index: 0;}#sk-container-id-1 div.sk-serial {display: flex;flex-direction: column;align-items: center;background-color: white;padding-right: 0.2em;padding-left: 0.2em;position: relative;}#sk-container-id-1 div.sk-item {position: relative;z-index: 1;}#sk-container-id-1 div.sk-parallel {display: flex;align-items: stretch;justify-content: center;background-color: white;position: relative;}#sk-container-id-1 div.sk-item::before, #sk-container-id-1 div.sk-parallel-item::before {content: \"\";position: absolute;border-left: 1px solid gray;box-sizing: border-box;top: 0;bottom: 0;left: 50%;z-index: -1;}#sk-container-id-1 div.sk-parallel-item {display: flex;flex-direction: column;z-index: 1;position: relative;background-color: white;}#sk-container-id-1 div.sk-parallel-item:first-child::after {align-self: flex-end;width: 50%;}#sk-container-id-1 div.sk-parallel-item:last-child::after {align-self: flex-start;width: 50%;}#sk-container-id-1 div.sk-parallel-item:only-child::after {width: 0;}#sk-container-id-1 div.sk-dashed-wrapped {border: 1px dashed gray;margin: 0 0.4em 0.5em 0.4em;box-sizing: border-box;padding-bottom: 0.4em;background-color: white;}#sk-container-id-1 div.sk-label label {font-family: monospace;font-weight: bold;display: inline-block;line-height: 1.2em;}#sk-container-id-1 div.sk-label-container {text-align: center;}#sk-container-id-1 div.sk-container {/* jupyter's `normalize.less` sets `[hidden] { display: none; }` but bootstrap.min.css set `[hidden] { display: none !important; }` so we also need the `!important` here to be able to override the default hidden behavior on the sphinx rendered scikit-learn.org. See: https://github.com/scikit-learn/scikit-learn/issues/21755 */display: inline-block !important;position: relative;}#sk-container-id-1 div.sk-text-repr-fallback {display: none;}</style><div id=\"sk-container-id-1\" class=\"sk-top-container\"><div class=\"sk-text-repr-fallback\"><pre>ColumnTransformer(transformers=[(&#x27;num&#x27;,\n                                 Pipeline(steps=[(&#x27;constant&#x27;,\n                                                  VarianceThreshold()),\n                                                 (&#x27;imputer&#x27;, SimpleImputer())]),\n                                 &lt;sklearn.compose._column_transformer.make_column_selector object at 0x000002E282C9BE50&gt;),\n                                (&#x27;cat&#x27;,\n                                 Pipeline(steps=[(&#x27;encoder&#x27;,\n                                                  OneHotEncoder(drop=&#x27;first&#x27;,\n                                                                handle_unknown=&#x27;ignore&#x27;,\n                                                                sparse_output=False))]),\n                                 &lt;sklearn.compose._column_transformer.make_column_selector object at 0x000002E282CBE490&gt;)])</pre><b>In a Jupyter environment, please rerun this cell to show the HTML representation or trust the notebook. <br />On GitHub, the HTML representation is unable to render, please try loading this page with nbviewer.org.</b></div><div class=\"sk-container\" hidden><div class=\"sk-item sk-dashed-wrapped\"><div class=\"sk-label-container\"><div class=\"sk-label sk-toggleable\"><input class=\"sk-toggleable__control sk-hidden--visually\" id=\"sk-estimator-id-1\" type=\"checkbox\" ><label for=\"sk-estimator-id-1\" class=\"sk-toggleable__label sk-toggleable__label-arrow\">ColumnTransformer</label><div class=\"sk-toggleable__content\"><pre>ColumnTransformer(transformers=[(&#x27;num&#x27;,\n                                 Pipeline(steps=[(&#x27;constant&#x27;,\n                                                  VarianceThreshold()),\n                                                 (&#x27;imputer&#x27;, SimpleImputer())]),\n                                 &lt;sklearn.compose._column_transformer.make_column_selector object at 0x000002E282C9BE50&gt;),\n                                (&#x27;cat&#x27;,\n                                 Pipeline(steps=[(&#x27;encoder&#x27;,\n                                                  OneHotEncoder(drop=&#x27;first&#x27;,\n                                                                handle_unknown=&#x27;ignore&#x27;,\n                                                                sparse_output=False))]),\n                                 &lt;sklearn.compose._column_transformer.make_column_selector object at 0x000002E282CBE490&gt;)])</pre></div></div></div><div class=\"sk-parallel\"><div class=\"sk-parallel-item\"><div class=\"sk-item\"><div class=\"sk-label-container\"><div class=\"sk-label sk-toggleable\"><input class=\"sk-toggleable__control sk-hidden--visually\" id=\"sk-estimator-id-2\" type=\"checkbox\" ><label for=\"sk-estimator-id-2\" class=\"sk-toggleable__label sk-toggleable__label-arrow\">num</label><div class=\"sk-toggleable__content\"><pre>&lt;sklearn.compose._column_transformer.make_column_selector object at 0x000002E282C9BE50&gt;</pre></div></div></div><div class=\"sk-serial\"><div class=\"sk-item\"><div class=\"sk-serial\"><div class=\"sk-item\"><div class=\"sk-estimator sk-toggleable\"><input class=\"sk-toggleable__control sk-hidden--visually\" id=\"sk-estimator-id-3\" type=\"checkbox\" ><label for=\"sk-estimator-id-3\" class=\"sk-toggleable__label sk-toggleable__label-arrow\">VarianceThreshold</label><div class=\"sk-toggleable__content\"><pre>VarianceThreshold()</pre></div></div></div><div class=\"sk-item\"><div class=\"sk-estimator sk-toggleable\"><input class=\"sk-toggleable__control sk-hidden--visually\" id=\"sk-estimator-id-4\" type=\"checkbox\" ><label for=\"sk-estimator-id-4\" class=\"sk-toggleable__label sk-toggleable__label-arrow\">SimpleImputer</label><div class=\"sk-toggleable__content\"><pre>SimpleImputer()</pre></div></div></div></div></div></div></div></div><div class=\"sk-parallel-item\"><div class=\"sk-item\"><div class=\"sk-label-container\"><div class=\"sk-label sk-toggleable\"><input class=\"sk-toggleable__control sk-hidden--visually\" id=\"sk-estimator-id-5\" type=\"checkbox\" ><label for=\"sk-estimator-id-5\" class=\"sk-toggleable__label sk-toggleable__label-arrow\">cat</label><div class=\"sk-toggleable__content\"><pre>&lt;sklearn.compose._column_transformer.make_column_selector object at 0x000002E282CBE490&gt;</pre></div></div></div><div class=\"sk-serial\"><div class=\"sk-item\"><div class=\"sk-serial\"><div class=\"sk-item\"><div class=\"sk-estimator sk-toggleable\"><input class=\"sk-toggleable__control sk-hidden--visually\" id=\"sk-estimator-id-6\" type=\"checkbox\" ><label for=\"sk-estimator-id-6\" class=\"sk-toggleable__label sk-toggleable__label-arrow\">OneHotEncoder</label><div class=\"sk-toggleable__content\"><pre>OneHotEncoder(drop=&#x27;first&#x27;, handle_unknown=&#x27;ignore&#x27;, sparse_output=False)</pre></div></div></div></div></div></div></div></div></div></div></div></div>"
     },
     "metadata": {},
     "output_type": "display_data"
    },
    {
     "name": "stdout",
     "output_type": "stream",
     "text": [
      "Time: 2.13s\n",
      "Train set: 73370 rows, 184 columns\n",
      "Validation set: 9171 rows, 184 columns\n",
      "Test set: 9172 rows, 184 columns\n"
     ]
    }
   ],
   "source": [
    "start_time = time.time()\n",
    "\n",
    "# save features\n",
    "X = df.copy().drop(['hospital_death', 'patient_id', 'encounter_id', 'hospital_id', 'icu_id', # drop identifiers\n",
    "                    'apache_4a_hospital_death_prob', 'apache_4a_icu_death_prob', # drop APACHE scores\n",
    "                    'apache_2_bodysystem'], # drop because of similarity with apache_3j_bodysystem\n",
    "                   axis=1)\n",
    "# save target variable\n",
    "y = df['hospital_death'].copy()\n",
    "# save APACHE scores for later evaluation on train / test / validation data\n",
    "y_apache = df['apache_4a_hospital_death_prob'].copy()\n",
    "\n",
    "\"\"\" SPLIT DATA SET \"\"\"\n",
    "# split the dataset into train and test+validation set\n",
    "(\n",
    "    X_train,\n",
    "    X_test,\n",
    "    y_train,\n",
    "    y_test,\n",
    "    y_apache_train,\n",
    "    y_apache_test,\n",
    "    ) = train_test_split(X, y, y_apache, \n",
    "                         test_size=test_size, # used for testing and validation\n",
    "                         random_state=random_state # for reproducibility\n",
    "                        ) \n",
    "# split the test set into test + validation set\n",
    "(\n",
    "    X_val,\n",
    "    X_test,\n",
    "    y_val,\n",
    "    y_test,\n",
    "    y_apache_val,\n",
    "    y_apache_test,\n",
    "    ) = train_test_split(X_test, y_test, y_apache_test, \n",
    "                         test_size=val_size, # used for testing and validation\n",
    "                         random_state=random_state # for reproducibility\n",
    "                        ) \n",
    "\n",
    "\"\"\"MISSING VALUES\"\"\"\n",
    "# drop columns with many missing values\n",
    "missing = X_train.isna().sum() > max_missing * len(X_train)\n",
    "missing = missing[missing].index\n",
    "X_train = X_train.drop(missing, axis=1)\n",
    "X_val = X_val.drop(missing, axis=1)\n",
    "X_test = X_test.drop(missing, axis=1)\n",
    "\n",
    "\"\"\"FURTHER PROCESSING PIPELINE\"\"\"\n",
    "# define pre-processing steps for numerical features\n",
    "num_transformer = Pipeline(steps=[(\"constant\", VarianceThreshold()), # remove constant features\n",
    "                                  (\"imputer\", SimpleImputer(strategy=\"mean\")),\n",
    "                                 ])\n",
    "# define preprocessing steps for categorical features\n",
    "cat_transformer = Pipeline(steps=[(\"encoder\", OneHotEncoder(drop='first', sparse_output=False, handle_unknown=\"ignore\"))])\n",
    "# create preprocessing pipeline\n",
    "prep_pipeline = ColumnTransformer(\n",
    "    transformers=[\n",
    "        ('num', num_transformer, make_column_selector(dtype_exclude=object)), # apply to columns NOT of type object (int or float)\n",
    "        ('cat', cat_transformer, make_column_selector(dtype_include=object)) # apply to columns of type object\n",
    "    ])\n",
    "# pipeline\n",
    "prep_pipeline.fit(X_train, y_train)\n",
    "display(prep_pipeline) # disply preprocessing pipeline\n",
    "\n",
    "# transform data sets\n",
    "X_train = pd.DataFrame(prep_pipeline.transform(X_train), columns=prep_pipeline.get_feature_names_out())\n",
    "X_val = pd.DataFrame(prep_pipeline.transform(X_val), columns=prep_pipeline.get_feature_names_out())\n",
    "X_test = pd.DataFrame(prep_pipeline.transform(X_test), columns=prep_pipeline.get_feature_names_out())\n",
    "        \n",
    "\"\"\"PRINT STATS\"\"\"\n",
    "print(\"Time: %.2fs\" % (time.time() - start_time))\n",
    "print(\"Train set: %s rows, %s columns\" % X_train.shape)\n",
    "print(\"Validation set: %s rows, %s columns\" % X_val.shape)\n",
    "print(\"Test set: %s rows, %s columns\" % X_test.shape)"
   ],
   "metadata": {
    "collapsed": false,
    "ExecuteTime": {
     "end_time": "2024-03-18T09:39:53.820793Z",
     "start_time": "2024-03-18T09:39:51.660594Z"
    }
   },
   "id": "44abc0266266f653",
   "execution_count": 4
  },
  {
   "cell_type": "code",
   "outputs": [
    {
     "name": "stdout",
     "output_type": "stream",
     "text": [
      "Cleaned Training Set:\n",
      "\n",
      "Cleaned Validation Set:\n",
      "\n",
      "Cleaned Test Set:\n"
     ]
    },
    {
     "data": {
      "text/plain": "   num__age   num__bmi  num__elective_surgery  num__height  \\\n0      52.0  44.404503                    1.0        162.6   \n1      57.0  26.260906                    0.0        175.3   \n2      84.0  14.844926                    0.0        165.0   \n3      58.0  28.307058                    0.0        170.2   \n4      67.0  29.393718                    1.0        185.0   \n\n   num__pre_icu_los_days  num__weight  num__albumin_apache  \\\n0               7.956944        117.4              2.90288   \n1               0.136806         80.7              2.90288   \n2               0.706250         38.6              2.10000   \n3               0.175000         82.0              3.50000   \n4               0.487500        100.6              2.50000   \n\n   num__apache_2_diagnosis  num__apache_3j_diagnosis  \\\n0                    308.0                   1207.01   \n1                    112.0                    107.01   \n2                    113.0                    501.05   \n3                    123.0                    702.01   \n4                    304.0                   1411.01   \n\n   num__apache_post_operative  ...  cat__apache_3j_bodysystem_Genitourinary  \\\n0                         1.0  ...                                      0.0   \n1                         0.0  ...                                      0.0   \n2                         0.0  ...                                      0.0   \n3                         0.0  ...                                      0.0   \n4                         1.0  ...                                      0.0   \n\n   cat__apache_3j_bodysystem_Gynecological  \\\n0                                      0.0   \n1                                      0.0   \n2                                      0.0   \n3                                      0.0   \n4                                      0.0   \n\n   cat__apache_3j_bodysystem_Hematological  \\\n0                                      0.0   \n1                                      0.0   \n2                                      0.0   \n3                                      0.0   \n4                                      0.0   \n\n   cat__apache_3j_bodysystem_Metabolic  \\\n0                                  0.0   \n1                                  0.0   \n2                                  0.0   \n3                                  1.0   \n4                                  0.0   \n\n   cat__apache_3j_bodysystem_Musculoskeletal/Skin  \\\n0                                             0.0   \n1                                             0.0   \n2                                             0.0   \n3                                             0.0   \n4                                             0.0   \n\n   cat__apache_3j_bodysystem_Neurological  \\\n0                                     0.0   \n1                                     0.0   \n2                                     0.0   \n3                                     0.0   \n4                                     0.0   \n\n   cat__apache_3j_bodysystem_Respiratory  cat__apache_3j_bodysystem_Sepsis  \\\n0                                    0.0                               0.0   \n1                                    0.0                               0.0   \n2                                    0.0                               1.0   \n3                                    0.0                               0.0   \n4                                    0.0                               0.0   \n\n   cat__apache_3j_bodysystem_Trauma  cat__apache_3j_bodysystem_nan  \n0                               0.0                            0.0  \n1                               0.0                            0.0  \n2                               0.0                            0.0  \n3                               0.0                            0.0  \n4                               0.0                            0.0  \n\n[5 rows x 184 columns]",
      "text/html": "<div>\n<style scoped>\n    .dataframe tbody tr th:only-of-type {\n        vertical-align: middle;\n    }\n\n    .dataframe tbody tr th {\n        vertical-align: top;\n    }\n\n    .dataframe thead th {\n        text-align: right;\n    }\n</style>\n<table border=\"1\" class=\"dataframe\">\n  <thead>\n    <tr style=\"text-align: right;\">\n      <th></th>\n      <th>num__age</th>\n      <th>num__bmi</th>\n      <th>num__elective_surgery</th>\n      <th>num__height</th>\n      <th>num__pre_icu_los_days</th>\n      <th>num__weight</th>\n      <th>num__albumin_apache</th>\n      <th>num__apache_2_diagnosis</th>\n      <th>num__apache_3j_diagnosis</th>\n      <th>num__apache_post_operative</th>\n      <th>...</th>\n      <th>cat__apache_3j_bodysystem_Genitourinary</th>\n      <th>cat__apache_3j_bodysystem_Gynecological</th>\n      <th>cat__apache_3j_bodysystem_Hematological</th>\n      <th>cat__apache_3j_bodysystem_Metabolic</th>\n      <th>cat__apache_3j_bodysystem_Musculoskeletal/Skin</th>\n      <th>cat__apache_3j_bodysystem_Neurological</th>\n      <th>cat__apache_3j_bodysystem_Respiratory</th>\n      <th>cat__apache_3j_bodysystem_Sepsis</th>\n      <th>cat__apache_3j_bodysystem_Trauma</th>\n      <th>cat__apache_3j_bodysystem_nan</th>\n    </tr>\n  </thead>\n  <tbody>\n    <tr>\n      <th>0</th>\n      <td>52.0</td>\n      <td>44.404503</td>\n      <td>1.0</td>\n      <td>162.6</td>\n      <td>7.956944</td>\n      <td>117.4</td>\n      <td>2.90288</td>\n      <td>308.0</td>\n      <td>1207.01</td>\n      <td>1.0</td>\n      <td>...</td>\n      <td>0.0</td>\n      <td>0.0</td>\n      <td>0.0</td>\n      <td>0.0</td>\n      <td>0.0</td>\n      <td>0.0</td>\n      <td>0.0</td>\n      <td>0.0</td>\n      <td>0.0</td>\n      <td>0.0</td>\n    </tr>\n    <tr>\n      <th>1</th>\n      <td>57.0</td>\n      <td>26.260906</td>\n      <td>0.0</td>\n      <td>175.3</td>\n      <td>0.136806</td>\n      <td>80.7</td>\n      <td>2.90288</td>\n      <td>112.0</td>\n      <td>107.01</td>\n      <td>0.0</td>\n      <td>...</td>\n      <td>0.0</td>\n      <td>0.0</td>\n      <td>0.0</td>\n      <td>0.0</td>\n      <td>0.0</td>\n      <td>0.0</td>\n      <td>0.0</td>\n      <td>0.0</td>\n      <td>0.0</td>\n      <td>0.0</td>\n    </tr>\n    <tr>\n      <th>2</th>\n      <td>84.0</td>\n      <td>14.844926</td>\n      <td>0.0</td>\n      <td>165.0</td>\n      <td>0.706250</td>\n      <td>38.6</td>\n      <td>2.10000</td>\n      <td>113.0</td>\n      <td>501.05</td>\n      <td>0.0</td>\n      <td>...</td>\n      <td>0.0</td>\n      <td>0.0</td>\n      <td>0.0</td>\n      <td>0.0</td>\n      <td>0.0</td>\n      <td>0.0</td>\n      <td>0.0</td>\n      <td>1.0</td>\n      <td>0.0</td>\n      <td>0.0</td>\n    </tr>\n    <tr>\n      <th>3</th>\n      <td>58.0</td>\n      <td>28.307058</td>\n      <td>0.0</td>\n      <td>170.2</td>\n      <td>0.175000</td>\n      <td>82.0</td>\n      <td>3.50000</td>\n      <td>123.0</td>\n      <td>702.01</td>\n      <td>0.0</td>\n      <td>...</td>\n      <td>0.0</td>\n      <td>0.0</td>\n      <td>0.0</td>\n      <td>1.0</td>\n      <td>0.0</td>\n      <td>0.0</td>\n      <td>0.0</td>\n      <td>0.0</td>\n      <td>0.0</td>\n      <td>0.0</td>\n    </tr>\n    <tr>\n      <th>4</th>\n      <td>67.0</td>\n      <td>29.393718</td>\n      <td>1.0</td>\n      <td>185.0</td>\n      <td>0.487500</td>\n      <td>100.6</td>\n      <td>2.50000</td>\n      <td>304.0</td>\n      <td>1411.01</td>\n      <td>1.0</td>\n      <td>...</td>\n      <td>0.0</td>\n      <td>0.0</td>\n      <td>0.0</td>\n      <td>0.0</td>\n      <td>0.0</td>\n      <td>0.0</td>\n      <td>0.0</td>\n      <td>0.0</td>\n      <td>0.0</td>\n      <td>0.0</td>\n    </tr>\n  </tbody>\n</table>\n<p>5 rows × 184 columns</p>\n</div>"
     },
     "execution_count": 5,
     "metadata": {},
     "output_type": "execute_result"
    }
   ],
   "source": [
    "print(\"Cleaned Training Set:\")\n",
    "traindf = pd.DataFrame(X_train)\n",
    "traindf.head()\n",
    "\n",
    "print(\"\\nCleaned Validation Set:\")\n",
    "valdf = pd.DataFrame(X_val) \n",
    "valdf.head()\n",
    "\n",
    "print(\"\\nCleaned Test Set:\")\n",
    "testdf = pd.DataFrame(X_test) \n",
    "testdf.head()"
   ],
   "metadata": {
    "collapsed": false,
    "ExecuteTime": {
     "end_time": "2024-03-18T09:39:53.851710Z",
     "start_time": "2024-03-18T09:39:53.821791Z"
    }
   },
   "id": "43267503bd8afb03",
   "execution_count": 5
  },
  {
   "cell_type": "code",
   "outputs": [
    {
     "name": "stderr",
     "output_type": "stream",
     "text": [
      "C:\\Users\\20212464\\AppData\\Local\\Programs\\Python\\Python39\\lib\\site-packages\\sklearn\\ensemble\\_forest.py:424: FutureWarning: `max_features='auto'` has been deprecated in 1.1 and will be removed in 1.3. To keep the past behaviour, explicitly set `max_features='sqrt'` or remove this parameter as it is also the default value for RandomForestClassifiers and ExtraTreesClassifiers.\n",
      "  warn(\n",
      "C:\\Users\\20212464\\AppData\\Local\\Programs\\Python\\Python39\\lib\\site-packages\\sklearn\\ensemble\\_forest.py:424: FutureWarning: `max_features='auto'` has been deprecated in 1.1 and will be removed in 1.3. To keep the past behaviour, explicitly set `max_features='sqrt'` or remove this parameter as it is also the default value for RandomForestClassifiers and ExtraTreesClassifiers.\n",
      "  warn(\n",
      "C:\\Users\\20212464\\AppData\\Local\\Programs\\Python\\Python39\\lib\\site-packages\\sklearn\\ensemble\\_forest.py:424: FutureWarning: `max_features='auto'` has been deprecated in 1.1 and will be removed in 1.3. To keep the past behaviour, explicitly set `max_features='sqrt'` or remove this parameter as it is also the default value for RandomForestClassifiers and ExtraTreesClassifiers.\n",
      "  warn(\n",
      "C:\\Users\\20212464\\AppData\\Local\\Programs\\Python\\Python39\\lib\\site-packages\\sklearn\\ensemble\\_forest.py:424: FutureWarning: `max_features='auto'` has been deprecated in 1.1 and will be removed in 1.3. To keep the past behaviour, explicitly set `max_features='sqrt'` or remove this parameter as it is also the default value for RandomForestClassifiers and ExtraTreesClassifiers.\n",
      "  warn(\n",
      "C:\\Users\\20212464\\AppData\\Local\\Programs\\Python\\Python39\\lib\\site-packages\\sklearn\\ensemble\\_forest.py:424: FutureWarning: `max_features='auto'` has been deprecated in 1.1 and will be removed in 1.3. To keep the past behaviour, explicitly set `max_features='sqrt'` or remove this parameter as it is also the default value for RandomForestClassifiers and ExtraTreesClassifiers.\n",
      "  warn(\n",
      "C:\\Users\\20212464\\AppData\\Local\\Programs\\Python\\Python39\\lib\\site-packages\\sklearn\\ensemble\\_forest.py:424: FutureWarning: `max_features='auto'` has been deprecated in 1.1 and will be removed in 1.3. To keep the past behaviour, explicitly set `max_features='sqrt'` or remove this parameter as it is also the default value for RandomForestClassifiers and ExtraTreesClassifiers.\n",
      "  warn(\n",
      "C:\\Users\\20212464\\AppData\\Local\\Programs\\Python\\Python39\\lib\\site-packages\\sklearn\\ensemble\\_forest.py:424: FutureWarning: `max_features='auto'` has been deprecated in 1.1 and will be removed in 1.3. To keep the past behaviour, explicitly set `max_features='sqrt'` or remove this parameter as it is also the default value for RandomForestClassifiers and ExtraTreesClassifiers.\n",
      "  warn(\n",
      "C:\\Users\\20212464\\AppData\\Local\\Programs\\Python\\Python39\\lib\\site-packages\\sklearn\\ensemble\\_forest.py:424: FutureWarning: `max_features='auto'` has been deprecated in 1.1 and will be removed in 1.3. To keep the past behaviour, explicitly set `max_features='sqrt'` or remove this parameter as it is also the default value for RandomForestClassifiers and ExtraTreesClassifiers.\n",
      "  warn(\n",
      "C:\\Users\\20212464\\AppData\\Local\\Programs\\Python\\Python39\\lib\\site-packages\\sklearn\\ensemble\\_forest.py:424: FutureWarning: `max_features='auto'` has been deprecated in 1.1 and will be removed in 1.3. To keep the past behaviour, explicitly set `max_features='sqrt'` or remove this parameter as it is also the default value for RandomForestClassifiers and ExtraTreesClassifiers.\n",
      "  warn(\n",
      "C:\\Users\\20212464\\AppData\\Local\\Programs\\Python\\Python39\\lib\\site-packages\\sklearn\\ensemble\\_forest.py:424: FutureWarning: `max_features='auto'` has been deprecated in 1.1 and will be removed in 1.3. To keep the past behaviour, explicitly set `max_features='sqrt'` or remove this parameter as it is also the default value for RandomForestClassifiers and ExtraTreesClassifiers.\n",
      "  warn(\n",
      "C:\\Users\\20212464\\AppData\\Local\\Programs\\Python\\Python39\\lib\\site-packages\\sklearn\\ensemble\\_forest.py:424: FutureWarning: `max_features='auto'` has been deprecated in 1.1 and will be removed in 1.3. To keep the past behaviour, explicitly set `max_features='sqrt'` or remove this parameter as it is also the default value for RandomForestClassifiers and ExtraTreesClassifiers.\n",
      "  warn(\n",
      "C:\\Users\\20212464\\AppData\\Local\\Programs\\Python\\Python39\\lib\\site-packages\\sklearn\\ensemble\\_forest.py:424: FutureWarning: `max_features='auto'` has been deprecated in 1.1 and will be removed in 1.3. To keep the past behaviour, explicitly set `max_features='sqrt'` or remove this parameter as it is also the default value for RandomForestClassifiers and ExtraTreesClassifiers.\n",
      "  warn(\n",
      "C:\\Users\\20212464\\AppData\\Local\\Programs\\Python\\Python39\\lib\\site-packages\\sklearn\\ensemble\\_forest.py:424: FutureWarning: `max_features='auto'` has been deprecated in 1.1 and will be removed in 1.3. To keep the past behaviour, explicitly set `max_features='sqrt'` or remove this parameter as it is also the default value for RandomForestClassifiers and ExtraTreesClassifiers.\n",
      "  warn(\n",
      "C:\\Users\\20212464\\AppData\\Local\\Programs\\Python\\Python39\\lib\\site-packages\\sklearn\\ensemble\\_forest.py:424: FutureWarning: `max_features='auto'` has been deprecated in 1.1 and will be removed in 1.3. To keep the past behaviour, explicitly set `max_features='sqrt'` or remove this parameter as it is also the default value for RandomForestClassifiers and ExtraTreesClassifiers.\n",
      "  warn(\n",
      "C:\\Users\\20212464\\AppData\\Local\\Programs\\Python\\Python39\\lib\\site-packages\\sklearn\\ensemble\\_forest.py:424: FutureWarning: `max_features='auto'` has been deprecated in 1.1 and will be removed in 1.3. To keep the past behaviour, explicitly set `max_features='sqrt'` or remove this parameter as it is also the default value for RandomForestClassifiers and ExtraTreesClassifiers.\n",
      "  warn(\n",
      "C:\\Users\\20212464\\AppData\\Local\\Programs\\Python\\Python39\\lib\\site-packages\\sklearn\\ensemble\\_forest.py:424: FutureWarning: `max_features='auto'` has been deprecated in 1.1 and will be removed in 1.3. To keep the past behaviour, explicitly set `max_features='sqrt'` or remove this parameter as it is also the default value for RandomForestClassifiers and ExtraTreesClassifiers.\n",
      "  warn(\n",
      "C:\\Users\\20212464\\AppData\\Local\\Programs\\Python\\Python39\\lib\\site-packages\\sklearn\\ensemble\\_forest.py:424: FutureWarning: `max_features='auto'` has been deprecated in 1.1 and will be removed in 1.3. To keep the past behaviour, explicitly set `max_features='sqrt'` or remove this parameter as it is also the default value for RandomForestClassifiers and ExtraTreesClassifiers.\n",
      "  warn(\n",
      "C:\\Users\\20212464\\AppData\\Local\\Programs\\Python\\Python39\\lib\\site-packages\\sklearn\\ensemble\\_forest.py:424: FutureWarning: `max_features='auto'` has been deprecated in 1.1 and will be removed in 1.3. To keep the past behaviour, explicitly set `max_features='sqrt'` or remove this parameter as it is also the default value for RandomForestClassifiers and ExtraTreesClassifiers.\n",
      "  warn(\n"
     ]
    },
    {
     "name": "stdout",
     "output_type": "stream",
     "text": [
      "Best hyperparameters: {'classifier__n_estimators': 33, 'classifier__min_samples_split': 2, 'classifier__min_samples_leaf': 2, 'classifier__max_features': 'sqrt', 'classifier__max_depth': 4, 'classifier__bootstrap': True}\n",
      "Validation ROC AUC: 0.8534290107252681\n"
     ]
    }
   ],
   "source": [
    "from sklearn.model_selection import RandomizedSearchCV\n",
    "from sklearn.ensemble import RandomForestClassifier\n",
    "from sklearn.metrics import roc_auc_score\n",
    "\n",
    "# Define the parameter grid, including classifier parameters\n",
    "param_grid = {\n",
    "    'classifier__n_estimators': [int(x) for x in np.linspace(start=10, stop=80, num=10)],\n",
    "    'classifier__max_features': ['auto', 'sqrt'],\n",
    "    'classifier__max_depth': [2, 4],\n",
    "    'classifier__min_samples_split': [2, 5],\n",
    "    'classifier__min_samples_leaf': [1, 2],\n",
    "    'classifier__bootstrap': [True, False]\n",
    "}\n",
    "\n",
    "# Combine the preprocessing pipeline with the classifier\n",
    "full_pipeline = Pipeline(steps=[\n",
    "    ('preprocessor', prep_pipeline),\n",
    "    ('classifier', RandomForestClassifier(random_state=random_state))\n",
    "])\n",
    "\n",
    "# Create RandomizedSearchCV object\n",
    "random_search = RandomizedSearchCV(full_pipeline, param_distributions=param_grid, n_iter=10, scoring='roc_auc', cv=3, random_state=random_state)\n",
    "\n",
    "# Fit the model\n",
    "random_search.fit(X_train, y_train)\n",
    "\n",
    "# Get the best parameters\n",
    "best_params = random_search.best_params_\n",
    "print(\"Best hyperparameters:\", best_params)\n",
    "\n",
    "# Evaluate on validation set\n",
    "y_val_pred = random_search.predict_proba(X_val)[:, 1]\n",
    "roc_auc = roc_auc_score(y_val, y_val_pred)\n",
    "print(\"Validation ROC AUC:\", roc_auc)\n"
   ],
   "metadata": {
    "collapsed": false,
    "ExecuteTime": {
     "end_time": "2024-03-18T09:41:04.377229Z",
     "start_time": "2024-03-18T09:39:53.853704Z"
    }
   },
   "id": "eb73727483ffcc4b",
   "execution_count": 6
  },
  {
   "cell_type": "code",
   "outputs": [
    {
     "data": {
      "text/plain": "<Figure size 800x600 with 2 Axes>",
      "image/png": "[encoded data removed]"
     },
     "metadata": {},
     "output_type": "display_data"
    }
   ],
   "source": [
    "from sklearn.metrics import confusion_matrix\n",
    "import seaborn as sns\n",
    "import matplotlib.pyplot as plt\n",
    "\n",
    "# Predict on the validation set\n",
    "y_val_pred = random_search.predict(X_val)\n",
    "\n",
    "# Create confusion matrix\n",
    "conf_matrix = confusion_matrix(y_val, y_val_pred)\n",
    "\n",
    "# Plot confusion matrix\n",
    "plt.figure(figsize=(8, 6))\n",
    "sns.heatmap(conf_matrix, annot=True, fmt='d', cmap='Blues', annot_kws={\"size\": 16})\n",
    "plt.title('Confusion Matrix')\n",
    "plt.xlabel('Predicted')\n",
    "plt.ylabel('True')\n",
    "plt.show()\n",
    "#the problem is the false positives, precision is a good way to measure it"
   ],
   "metadata": {
    "collapsed": false,
    "ExecuteTime": {
     "end_time": "2024-03-18T09:41:04.692637Z",
     "start_time": "2024-03-18T09:41:04.378192Z"
    }
   },
   "id": "6f00ece767d278d5",
   "execution_count": 7
  },
  {
   "cell_type": "code",
   "outputs": [
    {
     "name": "stdout",
     "output_type": "stream",
     "text": [
      "F1 Score: 0.1491\n",
      "Accuracy: 0.9191\n"
     ]
    }
   ],
   "source": [
    "from sklearn.metrics import f1_score, accuracy_score\n",
    "\n",
    "# Calculate F1 score\n",
    "f1 = f1_score(y_val, y_val_pred)\n",
    "\n",
    "# Calculate accuracy\n",
    "accuracy = accuracy_score(y_val, y_val_pred)\n",
    "\n",
    "# Print F1 score and accuracy\n",
    "print(\"F1 Score: {:.4f}\".format(f1))\n",
    "print(\"Accuracy: {:.4f}\".format(accuracy))\n"
   ],
   "metadata": {
    "collapsed": false,
    "ExecuteTime": {
     "end_time": "2024-03-18T09:41:04.707597Z",
     "start_time": "2024-03-18T09:41:04.693635Z"
    }
   },
   "id": "d93600f6ae80e959",
   "execution_count": 8
  },
  {
   "cell_type": "code",
   "outputs": [
    {
     "name": "stdout",
     "output_type": "stream",
     "text": [
      "                             Metric     Value\n",
      "0                          Accuracy  0.918993\n",
      "1                   False Negatives       732\n",
      "2                   False Positives        11\n",
      "3   Positive Predictive Value (PPV)  0.842857\n",
      "4   Negative Predictive Value (NPV)  0.919578\n",
      "5         False Positive Rate (FPR)  0.001312\n",
      "6         False Negative Rate (FNR)  0.925411\n",
      "7    Conditional Demographic Parity  0.842857\n",
      "8                 Equal Calibration  0.074589\n",
      "9                        Equal Odds     False\n",
      "10                         F1 Score   0.13705\n",
      "11                    ROC-AUC Score  0.848661\n"
     ]
    }
   ],
   "source": [
    "from sklearn.metrics import accuracy_score, confusion_matrix, precision_score, recall_score, f1_score, roc_auc_score\n",
    "\n",
    "# Predictions from the model\n",
    "y_pred = random_search.predict(X_test)\n",
    "\n",
    "# Accuracy\n",
    "accuracy = accuracy_score(y_test, y_pred)\n",
    "\n",
    "# Confusion Matrix\n",
    "tn, fp, fn, tp = confusion_matrix(y_test, y_pred).ravel()\n",
    "\n",
    "# Positive Predictive Value (PPV) or Precision\n",
    "ppv = precision_score(y_test, y_pred)\n",
    "\n",
    "# Negative Predictive Value (NPV)\n",
    "npv = tn / (tn + fn)\n",
    "\n",
    "# False Positive Rate (FPR)\n",
    "fpr = fp / (fp + tn)\n",
    "\n",
    "# False Negative Rate (FNR)\n",
    "fnr = fn / (fn + tp)\n",
    "\n",
    "# Conditional Demographic Parity\n",
    "cond_demographic_parity = tp / (tp + fp)\n",
    "\n",
    "# Equal Calibration\n",
    "equal_calibration = tp / (tp + fn)\n",
    "\n",
    "# Equal Odds\n",
    "equal_odds = (tp / (tp + fn)) == (tn / (tn + fp))\n",
    "\n",
    "# F1 Score\n",
    "f1 = f1_score(y_test, y_pred)\n",
    "\n",
    "# ROC-AUC Score\n",
    "roc_auc = roc_auc_score(y_test, random_search.predict_proba(X_test)[:, 1])\n",
    "\n",
    "import pandas as pd\n",
    "\n",
    "# Calculate the metrics\n",
    "metrics = {\n",
    "    \"Metric\": [\"Accuracy\", \"False Negatives\", \"False Positives\", \"Positive Predictive Value (PPV)\", \n",
    "               \"Negative Predictive Value (NPV)\", \"False Positive Rate (FPR)\", \"False Negative Rate (FNR)\",\n",
    "               \"Conditional Demographic Parity\", \"Equal Calibration\", \"Equal Odds\", \"F1 Score\", \"ROC-AUC Score\"],\n",
    "    \"Value\": [accuracy, fn, fp, ppv, npv, fpr, fnr, cond_demographic_parity, equal_calibration, \n",
    "              equal_odds, f1, roc_auc]\n",
    "}\n",
    "\n",
    "# Create a DataFrame\n",
    "metrics_df = pd.DataFrame(metrics)\n",
    "\n",
    "# Display the DataFrame\n",
    "print(metrics_df)\n"
   ],
   "metadata": {
    "collapsed": false,
    "ExecuteTime": {
     "end_time": "2024-03-18T18:04:05.499911Z",
     "start_time": "2024-03-18T18:04:05.296363Z"
    }
   },
   "id": "42dac0fbcefce993",
   "execution_count": 12
  }
 ],
 "metadata": {
  "kernelspec": {
   "display_name": "Python 3",
   "language": "python",
   "name": "python3"
  },
  "language_info": {
   "codemirror_mode": {
    "name": "ipython",
    "version": 2
   },
   "file_extension": ".py",
   "mimetype": "text/x-python",
   "name": "python",
   "nbconvert_exporter": "python",
   "pygments_lexer": "ipython2",
   "version": "2.7.6"
  }
 },
 "nbformat": 4,
 "nbformat_minor": 5
}
